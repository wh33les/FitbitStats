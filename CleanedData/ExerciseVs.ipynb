{
 "cells": [
  {
   "cell_type": "markdown",
   "id": "6ba1f34f",
   "metadata": {},
   "source": [
    "# Exercise versus"
   ]
  },
  {
   "cell_type": "code",
   "execution_count": 1,
   "id": "21bf51dd",
   "metadata": {},
   "outputs": [
    {
     "name": "stdout",
     "output_type": "stream",
     "text": [
      "C:\\Users\\leyjf\\Dropbox\\github\\FitbitStatsProject\\CleanedData\n",
      "C:\\Users\\leyjf\\Dropbox\\github\\FitbitStatsProject\n"
     ]
    }
   ],
   "source": [
    "# To list files in a directory\n",
    "import os\n",
    "# Move up in directories\n",
    "print(os.getcwd()) # for debugging\n",
    "os.chdir(\"..\")\n",
    "print(os.getcwd()) # for debugging\n",
    "\n",
    "# To work with .json files\n",
    "import json\n",
    "\n",
    "# To work with .csv files\n",
    "import pandas as pd\n",
    "\n",
    "# To parse dates\n",
    "from datetime import datetime, timedelta\n",
    "\n",
    "# To time execution\n",
    "import time # for debugging"
   ]
  },
  {
   "cell_type": "code",
   "execution_count": 2,
   "id": "919060a2",
   "metadata": {},
   "outputs": [],
   "source": [
    "# Load and parse exercise file\n",
    "exercise_list = open(\"CleanedData\\\\exercise_grouped_by_date.json\")\n",
    "#type(exercise_list) # for debugging\n",
    "parsed_exercise = json.load(exercise_list)\n",
    "#parsed_exercise # for debugging\n",
    "exercise_list.close()"
   ]
  },
  {
   "cell_type": "markdown",
   "id": "e7ea9128",
   "metadata": {},
   "source": [
    "## Exercise versus resting heartrate"
   ]
  },
  {
   "cell_type": "code",
   "execution_count": 3,
   "id": "733438d1",
   "metadata": {},
   "outputs": [],
   "source": [
    "# Load sleep scores\n",
    "sleep_scores = pd.read_csv(\"RawData\\\\ConsolidatedData\\\\sleep_score.csv\", index_col = [0])\n",
    "#sleep_scores # for debugging\n",
    "\n",
    "# Match date format\n",
    "for date in sleep_scores[\"timestamp\"]:\n",
    "    #print(date) # for debugging\n",
    "    parsed_date = datetime.strptime(date, \"%Y-%m-%dT%H:%M:%SZ\").strftime('%m/%d/%y')\n",
    "    #print(parsed_date) # for debugging\n",
    "    sleep_scores[\"timestamp\"] = sleep_scores[\"timestamp\"].replace(date, parsed_date)\n",
    "#sleep_scores # for debugging\n",
    "\n",
    "# Replace multiple rows with the same date with the averages\n",
    "averaged_sleep_scores = sleep_scores.groupby([\"timestamp\"]).mean()\n",
    "#averaged_sleep_scores # for debugging\n",
    "\n",
    "# New .json with date, total exercise, resting heartrate\n",
    "averaged_sleep_scores_string = averaged_sleep_scores.to_json()\n",
    "averaged_sleep_scores_json = json.loads(averaged_sleep_scores_string)\n",
    "#print(averaged_sleep_scores_json) # for debugging\n",
    "#print(type(averaged_sleep_scores_json)) # for debugging\n",
    "exercise_v_resting_hr = []\n",
    "for entry in parsed_exercise:\n",
    "    if entry[\"date\"] not in ['03/15/22','04/05/22','07/28/22','08/23/22','09/12/22','09/21/22',\n",
    "                            '10/31/22','11/14/22','02/07/23']:\n",
    "        month_year = datetime.strptime(entry[\"date\"], \"%m/%d/%y\").strftime('%B %Y')\n",
    "        new_entry = {\n",
    "            \"date\" : entry[\"date\"],\n",
    "            \"resting_hr\" : averaged_sleep_scores_json[\"resting_heart_rate\"][entry[\"date\"]],\n",
    "            \"total_exercise\" : entry[\"totalMinutes\"],\n",
    "            \"month\": month_year\n",
    "        }\n",
    "        #print(new_entry) # for debugging\n",
    "        exercise_v_resting_hr.append(new_entry)\n",
    "#resting_hr_v_exercise # for debugging        \n",
    "\n",
    "# Save to a file\n",
    "exercise_v_resting_hr_string = json.dumps(exercise_v_resting_hr)\n",
    "exercise_v_resting_hr_json = json.loads(exercise_v_resting_hr_string)\n",
    "save_file = open(\"CleanedData\\\\exercise_v_resting_hr.json\", \"w\")  \n",
    "json.dump(exercise_v_resting_hr_json, save_file, indent = 4)  \n",
    "save_file.close()"
   ]
  },
  {
   "cell_type": "markdown",
   "id": "6fe90b23",
   "metadata": {},
   "source": [
    "## Exercise versus sleep score"
   ]
  },
  {
   "cell_type": "code",
   "execution_count": 8,
   "id": "a40d1fe5",
   "metadata": {},
   "outputs": [],
   "source": [
    "#averaged_sleep_scores_json # for debugging\n",
    "#parsed_exercise # for debugging\n",
    "exercise_v_sleep_score = []\n",
    "for entry in parsed_exercise:\n",
    "    if entry[\"date\"] not in ['03/15/22','04/05/22','07/28/22','08/23/22','09/12/22','09/21/22',\n",
    "                            '10/31/22','11/14/22','02/07/23']:\n",
    "        month_year = datetime.strptime(entry[\"date\"], \"%m/%d/%y\").strftime('%B %Y')\n",
    "        new_entry = {\n",
    "            \"date\" : entry[\"date\"],\n",
    "            \"total_exercise\" : entry[\"totalMinutes\"],\n",
    "            \"sleep_score\" : averaged_sleep_scores_json[\"overall_score\"][entry[\"date\"]],\n",
    "            \"composition\" : averaged_sleep_scores_json[\"composition_score\"][entry[\"date\"]],\n",
    "            \"revitalization\" : averaged_sleep_scores_json[\"revitalization_score\"][entry[\"date\"]],\n",
    "            \"duration\" : averaged_sleep_scores_json[\"duration_score\"][entry[\"date\"]],\n",
    "            \"month\": month_year\n",
    "        }\n",
    "    #print(new_entry) # for debugging\n",
    "    exercise_v_sleep_score.append(new_entry)\n",
    "#resting_hr_v_exercise # for debugging        \n",
    "\n",
    "# Save to a file\n",
    "exercise_v_sleep_score_string = json.dumps(exercise_v_sleep_score)\n",
    "exercise_v_sleep_score_json = json.loads(exercise_v_sleep_score_string)\n",
    "save_file = open(\"CleanedData\\\\exercise_v_sleep_score.json\", \"w\")  \n",
    "json.dump(exercise_v_sleep_score_json, save_file, indent = 4)  \n",
    "save_file.close()"
   ]
  },
  {
   "cell_type": "markdown",
   "id": "245810b8",
   "metadata": {},
   "source": [
    "## Exercise versus sleep stages"
   ]
  },
  {
   "cell_type": "code",
   "execution_count": 6,
   "id": "4f608aa0",
   "metadata": {},
   "outputs": [
    {
     "ename": "KeyError",
     "evalue": "'deep'",
     "output_type": "error",
     "traceback": [
      "\u001b[1;31m---------------------------------------------------------------------------\u001b[0m",
      "\u001b[1;31mKeyError\u001b[0m                                  Traceback (most recent call last)",
      "Input \u001b[1;32mIn [6]\u001b[0m, in \u001b[0;36m<cell line: 16>\u001b[1;34m()\u001b[0m\n\u001b[0;32m     15\u001b[0m exercise_v_sleep_stages \u001b[38;5;241m=\u001b[39m []\n\u001b[0;32m     16\u001b[0m \u001b[38;5;28;01mfor\u001b[39;00m entry \u001b[38;5;129;01min\u001b[39;00m parsed_exercise:\n\u001b[1;32m---> 17\u001b[0m     indiv_entries \u001b[38;5;241m=\u001b[39m [{\n\u001b[0;32m     18\u001b[0m         \u001b[38;5;124m\"\u001b[39m\u001b[38;5;124mdeep_sleep\u001b[39m\u001b[38;5;124m\"\u001b[39m : log[\u001b[38;5;124m\"\u001b[39m\u001b[38;5;124mlevels\u001b[39m\u001b[38;5;124m\"\u001b[39m][\u001b[38;5;124m\"\u001b[39m\u001b[38;5;124msummary\u001b[39m\u001b[38;5;124m\"\u001b[39m][\u001b[38;5;124m\"\u001b[39m\u001b[38;5;124mdeep\u001b[39m\u001b[38;5;124m\"\u001b[39m][\u001b[38;5;124m\"\u001b[39m\u001b[38;5;124mminutes\u001b[39m\u001b[38;5;124m\"\u001b[39m],\n\u001b[0;32m     19\u001b[0m         \u001b[38;5;124m\"\u001b[39m\u001b[38;5;124mlight_sleep\u001b[39m\u001b[38;5;124m\"\u001b[39m : log[\u001b[38;5;124m\"\u001b[39m\u001b[38;5;124mlevels\u001b[39m\u001b[38;5;124m\"\u001b[39m][\u001b[38;5;124m\"\u001b[39m\u001b[38;5;124msummary\u001b[39m\u001b[38;5;124m\"\u001b[39m][\u001b[38;5;124m\"\u001b[39m\u001b[38;5;124mlight\u001b[39m\u001b[38;5;124m\"\u001b[39m][\u001b[38;5;124m\"\u001b[39m\u001b[38;5;124mminutes\u001b[39m\u001b[38;5;124m\"\u001b[39m],\n\u001b[0;32m     20\u001b[0m         \u001b[38;5;124m\"\u001b[39m\u001b[38;5;124mrem_sleep\u001b[39m\u001b[38;5;124m\"\u001b[39m : log[\u001b[38;5;124m\"\u001b[39m\u001b[38;5;124mlevels\u001b[39m\u001b[38;5;124m\"\u001b[39m][\u001b[38;5;124m\"\u001b[39m\u001b[38;5;124msummary\u001b[39m\u001b[38;5;124m\"\u001b[39m][\u001b[38;5;124m\"\u001b[39m\u001b[38;5;124mrem\u001b[39m\u001b[38;5;124m\"\u001b[39m][\u001b[38;5;124m\"\u001b[39m\u001b[38;5;124mminutes\u001b[39m\u001b[38;5;124m\"\u001b[39m]\n\u001b[0;32m     21\u001b[0m     } \u001b[38;5;28;01mfor\u001b[39;00m log \u001b[38;5;129;01min\u001b[39;00m parsed_stages \u001b[38;5;28;01mif\u001b[39;00m log[\u001b[38;5;124m\"\u001b[39m\u001b[38;5;124mstartTime\u001b[39m\u001b[38;5;124m\"\u001b[39m]\u001b[38;5;241m==\u001b[39mentry[\u001b[38;5;124m\"\u001b[39m\u001b[38;5;124mdate\u001b[39m\u001b[38;5;124m\"\u001b[39m]]\n\u001b[0;32m     22\u001b[0m     deep_sleep \u001b[38;5;241m=\u001b[39m \u001b[38;5;241m0\u001b[39m\n\u001b[0;32m     23\u001b[0m     light_sleep \u001b[38;5;241m=\u001b[39m \u001b[38;5;241m0\u001b[39m\n",
      "Input \u001b[1;32mIn [6]\u001b[0m, in \u001b[0;36m<listcomp>\u001b[1;34m(.0)\u001b[0m\n\u001b[0;32m     15\u001b[0m exercise_v_sleep_stages \u001b[38;5;241m=\u001b[39m []\n\u001b[0;32m     16\u001b[0m \u001b[38;5;28;01mfor\u001b[39;00m entry \u001b[38;5;129;01min\u001b[39;00m parsed_exercise:\n\u001b[0;32m     17\u001b[0m     indiv_entries \u001b[38;5;241m=\u001b[39m [{\n\u001b[1;32m---> 18\u001b[0m         \u001b[38;5;124m\"\u001b[39m\u001b[38;5;124mdeep_sleep\u001b[39m\u001b[38;5;124m\"\u001b[39m : \u001b[43mlog\u001b[49m\u001b[43m[\u001b[49m\u001b[38;5;124;43m\"\u001b[39;49m\u001b[38;5;124;43mlevels\u001b[39;49m\u001b[38;5;124;43m\"\u001b[39;49m\u001b[43m]\u001b[49m\u001b[43m[\u001b[49m\u001b[38;5;124;43m\"\u001b[39;49m\u001b[38;5;124;43msummary\u001b[39;49m\u001b[38;5;124;43m\"\u001b[39;49m\u001b[43m]\u001b[49m\u001b[43m[\u001b[49m\u001b[38;5;124;43m\"\u001b[39;49m\u001b[38;5;124;43mdeep\u001b[39;49m\u001b[38;5;124;43m\"\u001b[39;49m\u001b[43m]\u001b[49m[\u001b[38;5;124m\"\u001b[39m\u001b[38;5;124mminutes\u001b[39m\u001b[38;5;124m\"\u001b[39m],\n\u001b[0;32m     19\u001b[0m         \u001b[38;5;124m\"\u001b[39m\u001b[38;5;124mlight_sleep\u001b[39m\u001b[38;5;124m\"\u001b[39m : log[\u001b[38;5;124m\"\u001b[39m\u001b[38;5;124mlevels\u001b[39m\u001b[38;5;124m\"\u001b[39m][\u001b[38;5;124m\"\u001b[39m\u001b[38;5;124msummary\u001b[39m\u001b[38;5;124m\"\u001b[39m][\u001b[38;5;124m\"\u001b[39m\u001b[38;5;124mlight\u001b[39m\u001b[38;5;124m\"\u001b[39m][\u001b[38;5;124m\"\u001b[39m\u001b[38;5;124mminutes\u001b[39m\u001b[38;5;124m\"\u001b[39m],\n\u001b[0;32m     20\u001b[0m         \u001b[38;5;124m\"\u001b[39m\u001b[38;5;124mrem_sleep\u001b[39m\u001b[38;5;124m\"\u001b[39m : log[\u001b[38;5;124m\"\u001b[39m\u001b[38;5;124mlevels\u001b[39m\u001b[38;5;124m\"\u001b[39m][\u001b[38;5;124m\"\u001b[39m\u001b[38;5;124msummary\u001b[39m\u001b[38;5;124m\"\u001b[39m][\u001b[38;5;124m\"\u001b[39m\u001b[38;5;124mrem\u001b[39m\u001b[38;5;124m\"\u001b[39m][\u001b[38;5;124m\"\u001b[39m\u001b[38;5;124mminutes\u001b[39m\u001b[38;5;124m\"\u001b[39m]\n\u001b[0;32m     21\u001b[0m     } \u001b[38;5;28;01mfor\u001b[39;00m log \u001b[38;5;129;01min\u001b[39;00m parsed_stages \u001b[38;5;28;01mif\u001b[39;00m log[\u001b[38;5;124m\"\u001b[39m\u001b[38;5;124mstartTime\u001b[39m\u001b[38;5;124m\"\u001b[39m]\u001b[38;5;241m==\u001b[39mentry[\u001b[38;5;124m\"\u001b[39m\u001b[38;5;124mdate\u001b[39m\u001b[38;5;124m\"\u001b[39m]]\n\u001b[0;32m     22\u001b[0m     deep_sleep \u001b[38;5;241m=\u001b[39m \u001b[38;5;241m0\u001b[39m\n\u001b[0;32m     23\u001b[0m     light_sleep \u001b[38;5;241m=\u001b[39m \u001b[38;5;241m0\u001b[39m\n",
      "\u001b[1;31mKeyError\u001b[0m: 'deep'"
     ]
    }
   ],
   "source": [
    "# Load and parse sleep scores\n",
    "sleep_stages_list = open(\"RawData\\\\ConsolidatedData\\\\sleep_stages.json\")\n",
    "parsed_stages = json.load(sleep_stages_list)\n",
    "sleep_stages_list.close()\n",
    "#parsed_stages # for debugging\n",
    "\n",
    "# Match date format\n",
    "for entry in parsed_stages:\n",
    "    date = entry[\"startTime\"]\n",
    "    parsed_date = datetime.strptime(date, \"%Y-%m-%dT%H:%M:%S.%f\").strftime('%m/%d/%y')\n",
    "    #print(parsed_date) # for debugging\n",
    "    entry[\"startTime\"] = entry[\"startTime\"].replace(date, parsed_date)\n",
    "#parsed_stages # for debugging\n",
    "\n",
    "exercise_v_sleep_stages = []\n",
    "for entry in parsed_exercise:\n",
    "    indiv_entries = [{\n",
    "        \"deep_sleep\" : log[\"levels\"][\"summary\"][\"deep\"][\"minutes\"],\n",
    "        \"light_sleep\" : log[\"levels\"][\"summary\"][\"light\"][\"minutes\"],\n",
    "        \"rem_sleep\" : log[\"levels\"][\"summary\"][\"rem\"][\"minutes\"]\n",
    "    } for log in parsed_stages if log[\"startTime\"]==entry[\"date\"]]\n",
    "    deep_sleep = 0\n",
    "    light_sleep = 0\n",
    "    rem_sleep = 0\n",
    "    for indiv_entry in indiv_entries:\n",
    "        deep_sleep = deep_sleep +indiv_entry[\"deep_sleep\"]\n",
    "        light_sleep = light_sleep +indiv_entry[\"light_sleep\"]\n",
    "        rem_sleep = rem_sleep +indiv_entry[\"rem_sleep\"]\n",
    "        month_year = datetime.strptime(entry[\"date\"], \"%m/%d/%y\").strftime('%B %Y')\n",
    "        new_entry = {\n",
    "        \"date\": entry[\"date\"],\n",
    "        \"total_exercise\": entry[\"totalMinutes\"],\n",
    "        \"deep_sleep\": deep_sleep,\n",
    "        \"light_sleep\": light_sleep,\n",
    "        \"rem_sleep\": rem_sleep,\n",
    "        \"month\": month_year\n",
    "    }\n",
    "    exercise_v_sleep_stages.append(new_entry)\n",
    "exercise_v_sleep_stages # for debugging        \n",
    "\n",
    "# # Save to a file\n",
    "# exercise_v_resting_hr_string = json.dumps(exercise_v_resting_hr)\n",
    "# exercise_v_resting_hr_json = json.loads(exercise_v_resting_hr_string)\n",
    "# save_file = open(\"CleanedData\\\\exercise_v_resting_hr.json\", \"w\")  \n",
    "# json.dump(exercise_v_resting_hr_json, save_file, indent = 4)  \n",
    "# save_file.close()"
   ]
  }
 ],
 "metadata": {
  "kernelspec": {
   "display_name": "Python 3 (ipykernel)",
   "language": "python",
   "name": "python3"
  },
  "language_info": {
   "codemirror_mode": {
    "name": "ipython",
    "version": 3
   },
   "file_extension": ".py",
   "mimetype": "text/x-python",
   "name": "python",
   "nbconvert_exporter": "python",
   "pygments_lexer": "ipython3",
   "version": "3.9.12"
  }
 },
 "nbformat": 4,
 "nbformat_minor": 5
}
