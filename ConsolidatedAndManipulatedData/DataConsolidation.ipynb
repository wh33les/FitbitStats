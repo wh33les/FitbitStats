{
 "cells": [
  {
   "cell_type": "code",
   "execution_count": 14,
   "id": "f1c80d51",
   "metadata": {},
   "outputs": [],
   "source": [
    "# To make data frames\n",
    "import pandas as pd\n",
    "\n",
    "# To scan folders based on file type\n",
    "import glob\n"
   ]
  },
  {
   "cell_type": "markdown",
   "id": "b41f08f9",
   "metadata": {},
   "source": [
    "# Weight"
   ]
  },
  {
   "cell_type": "code",
   "execution_count": 19,
   "id": "90375886",
   "metadata": {},
   "outputs": [
    {
     "data": {
      "text/plain": [
       "['a_b_list.png',\n",
       " 'a_list.png',\n",
       " 'Basic Data Types - Complete.ipynb',\n",
       " 'Basic Data Types.ipynb',\n",
       " 'Basic numpy - Complete.ipynb',\n",
       " 'Basic numpy.ipynb',\n",
       " 'Basic pandas - Complete.ipynb',\n",
       " 'Basic pandas.ipynb',\n",
       " 'Basic Plotting - Complete.ipynb',\n",
       " 'Basic Plotting.ipynb',\n",
       " 'Classes and Objects in Python (Optional) - Complete.ipynb',\n",
       " 'Classes and Objects in Python (Optional).ipynb',\n",
       " 'columnar.png',\n",
       " 'Conditionals and Loops - Complete.ipynb',\n",
       " 'Conditionals and Loops.ipynb',\n",
       " 'Data File Types - Complete.ipynb',\n",
       " 'Data File Types.ipynb',\n",
       " 'Importing a Module or Package - Complete.ipynb',\n",
       " 'Importing a Module or Package.ipynb',\n",
       " 'Introduction.ipynb',\n",
       " 'More Complicated Data Types - Complete.ipynb',\n",
       " 'More Complicated Data Types.ipynb',\n",
       " 'My First jupyter notebook - Complete.ipynb',\n",
       " 'My First jupyter notebook.ipynb',\n",
       " 'Next Steps.ipynb',\n",
       " 'Parquet Files (Optional) - Complete.ipynb',\n",
       " 'Parquet Files (Optional).ipynb',\n",
       " 'partition.png',\n",
       " 'Reading and Writing to File - Complete.ipynb',\n",
       " 'Reading and Writing to File.ipynb',\n",
       " 'row_based.png',\n",
       " 'Shallow and Deep Copies - Complete.ipynb',\n",
       " 'Shallow and Deep Copies.ipynb',\n",
       " 'Strings - Complete.ipynb',\n",
       " 'Strings.ipynb',\n",
       " 'study_parq_folder_1.png',\n",
       " 'study_parq_folder_2.png',\n",
       " 'study_parq_folder_3.png',\n",
       " 'study_parq_folder_4.png',\n",
       " 'Troubleshooting Errors - Complete.ipynb',\n",
       " 'Troubleshooting Errors.ipynb',\n",
       " 'Untitled.ipynb',\n",
       " 'Writing Functions - Complete.ipynb',\n",
       " 'Writing Functions.ipynb',\n",
       " 'ydata-profiling (Optional) - Complete.ipynb',\n",
       " 'ydata-profiling (Optional).ipynb']"
      ]
     },
     "execution_count": 19,
     "metadata": {},
     "output_type": "execute_result"
    }
   ],
   "source": [
    "raw_weight_files = glob.glob(\"*.*\")\n",
    "raw_weight_files"
   ]
  }
 ],
 "metadata": {
  "kernelspec": {
   "display_name": "Python 3 (ipykernel)",
   "language": "python",
   "name": "python3"
  },
  "language_info": {
   "codemirror_mode": {
    "name": "ipython",
    "version": 3
   },
   "file_extension": ".py",
   "mimetype": "text/x-python",
   "name": "python",
   "nbconvert_exporter": "python",
   "pygments_lexer": "ipython3",
   "version": "3.9.12"
  }
 },
 "nbformat": 4,
 "nbformat_minor": 5
}
