{
 "cells": [
  {
   "cell_type": "code",
   "execution_count": 14,
   "id": "4669862b",
   "metadata": {},
   "outputs": [],
   "source": [
    "# To make data frames\n",
    "import pandas as pd\n",
    "\n",
    "# To scan folders based on file type\n",
    "import glob\n"
   ]
  },
  {
   "cell_type": "markdown",
   "id": "6575be22",
   "metadata": {},
   "source": [
    "# Weight"
   ]
  },
  {
   "cell_type": "code",
   "execution_count": 16,
   "id": "6475c480",
   "metadata": {},
   "outputs": [
    {
     "data": {
      "text/plain": [
       "[]"
      ]
     },
     "execution_count": 16,
     "metadata": {},
     "output_type": "execute_result"
    }
   ],
   "source": [
    "raw_weight_files = glob.glob(\"Data/RawWeightFiles/*.json\")\n",
    "raw_weight_files"
   ]
  }
 ],
 "metadata": {
  "kernelspec": {
   "display_name": "Python 3 (ipykernel)",
   "language": "python",
   "name": "python3"
  },
  "language_info": {
   "codemirror_mode": {
    "name": "ipython",
    "version": 3
   },
   "file_extension": ".py",
   "mimetype": "text/x-python",
   "name": "python",
   "nbconvert_exporter": "python",
   "pygments_lexer": "ipython3",
   "version": "3.9.12"
  }
 },
 "nbformat": 4,
 "nbformat_minor": 5
}
