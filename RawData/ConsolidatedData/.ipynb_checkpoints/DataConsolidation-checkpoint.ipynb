{
 "cells": [
  {
   "cell_type": "markdown",
   "id": "bff5f260",
   "metadata": {},
   "source": [
    "# Packages, functions, and initializations"
   ]
  },
  {
   "cell_type": "code",
   "execution_count": 1,
   "id": "f1c80d51",
   "metadata": {},
   "outputs": [
    {
     "name": "stdout",
     "output_type": "stream",
     "text": [
      "C:\\Users\\leyjf\\Dropbox\\github\\FitbitStatsProject\\ConsolidatedAndManipulatedData\\ConsolidatedData\n",
      "C:\\Users\\leyjf\\Dropbox\\github\\FitbitStatsProject\n"
     ]
    }
   ],
   "source": [
    "# To make data frames\n",
    "import pandas as pd\n",
    "\n",
    "# To list files in a directory\n",
    "import os\n",
    "# Move up in directories\n",
    "print(os.getcwd()) # for debugging\n",
    "os.chdir(\"..\\..\")\n",
    "print(os.getcwd()) # for debugging\n",
    "\n",
    "# To work with .json files\n",
    "import json"
   ]
  },
  {
   "cell_type": "markdown",
   "id": "c849d00c",
   "metadata": {},
   "source": [
    "# Exercise\n",
    "\n",
    "Activity (run/walk), activity level minutes (sedentary, lightly, fairly, very), average hr, Calories burned, duration (ms), steps, minutes and Calories burned in hr zones (out of range, fat burn, cardio, peak), total active zone minutes."
   ]
  },
  {
   "cell_type": "code",
   "execution_count": 14,
   "id": "de3652a9",
   "metadata": {
    "scrolled": true
   },
   "outputs": [
    {
     "name": "stdout",
     "output_type": "stream",
     "text": [
      "<class 'str'>\n",
      "<class 'str'>\n",
      "<class 'str'>\n",
      "<class 'str'>\n",
      "<class 'str'>\n",
      "<class 'str'>\n"
     ]
    }
   ],
   "source": [
    "# List of files using os\n",
    "exercise_files_path = \"RawData\\RawExerciseFiles\"\n",
    "exercise_files_list = os.listdir(exercise_files_path)\n",
    "#print(exercise_files_list) # for debugging        \n",
    "\n",
    "# Concatenate all the .json files\n",
    "full_exercise_json = []\n",
    "for file in exercise_files_list:\n",
    "    #print(type(file)) # for debugging\n",
    "    file_with_path = exercise_files_path+\"\\\\\"+file\n",
    "    full_exercise_json.extend(json.load(open(file_with_path)))\n",
    "#print(full_exercise_json) # for debugging\n",
    "\n",
    "# Save consolidated data to a .json file\n",
    "save_file = open(\"RawData\\\\ConsolidatedData\\\\exercise.json\", \"w\")  \n",
    "json.dump(full_exercise_json, save_file), indent = 4)  \n",
    "save_file.close()"
   ]
  },
  {
   "cell_type": "markdown",
   "id": "910ce031",
   "metadata": {},
   "source": [
    "# Active zone minutes\n",
    "\n",
    "Minute-by-minute active zone minutes.  Doubles for cardio and peak."
   ]
  },
  {
   "cell_type": "code",
   "execution_count": 18,
   "id": "cb456617",
   "metadata": {},
   "outputs": [],
   "source": [
    "# List of files using os\n",
    "active_zone_minutes_files_path = \"RawData\\RawActiveZoneMinutesFiles\"\n",
    "active_zone_minutes_files_list = os.listdir(active_zone_minutes_files_path) \n",
    "#print(active_zone_minutes_files_list) # for debugging   \n",
    "\n",
    "# Concatenate files\n",
    "active_zone_minutes_df = pd.concat([pd.read_csv(active_zone_minutes_files_path+\"\\\\\"+file)\n",
    "                                    for file in active_zone_minutes_files_list])\n",
    "#active_zone_minutes_df # for debugging\n",
    "active_zone_minutes_df.to_csv(\"RawData\\\\ConsolidatedData\\\\active_zone_minutes.csv\")"
   ]
  },
  {
   "cell_type": "markdown",
   "id": "b41f08f9",
   "metadata": {},
   "source": [
    "# Weight\n",
    "\n",
    "Daily weight and BMI."
   ]
  },
  {
   "cell_type": "code",
   "execution_count": null,
   "id": "90375886",
   "metadata": {
    "scrolled": true
   },
   "outputs": [],
   "source": [
    "# List of files using os\n",
    "weight_files_path = \"RawData\\RawWeightFiles\"\n",
    "weight_files_list = os.listdir(weight_files_path)\n",
    "#print(weight_files_list) # for debugging        \n",
    "\n",
    "# Concatenate all the .json files\n",
    "full_weight_json = []\n",
    "for file in weight_files_list:\n",
    "    file_with_path = weight_files_path+\"\\\\\"+file\n",
    "    full_weight_json.extend(json.load(open(file_with_path)))\n",
    "#print(full_weight_json) # for debugging    \n",
    "#print(type(full_weight_json)) # for debugging\n",
    "#for item in full_weight_json: # for debugging\n",
    "#    print(type(item)) # for debugging\n",
    "full_weight_df.to_csv(\"RawData\\\\ConsolidatedData\\\\weight.csv\")"
   ]
  },
  {
   "cell_type": "markdown",
   "id": "d062fcbd",
   "metadata": {},
   "source": [
    "# Readiness score\n",
    "\n",
    "Daily readiness score with subcomponents."
   ]
  },
  {
   "cell_type": "code",
   "execution_count": 19,
   "id": "2b8637e7",
   "metadata": {},
   "outputs": [],
   "source": [
    "# List of files using os\n",
    "readiness_score_files_path = \"RawData\\RawReadinessScoreFiles\"\n",
    "readiness_score_files_list = os.listdir(readiness_score_files_path) \n",
    "#print(readiness_score_files_list) # for debugging   \n",
    "\n",
    "# Concatenate files\n",
    "full_readiness_score_df = pd.concat([pd.read_csv(readiness_score_files_path+\"\\\\\"+file)\n",
    "                                    for file in readiness_score_files_list])\n",
    "full_readiness_score_df.sort_values(full_readiness_score_df.columns[0]).to_csv(\"RawData\\\\ConsolidatedData\\\\readiness_score.csv\")"
   ]
  },
  {
   "cell_type": "markdown",
   "id": "10877183",
   "metadata": {},
   "source": [
    "# Daily respiratory rate\n",
    "\n",
    "Average breaths per minute during deep sleep."
   ]
  },
  {
   "cell_type": "code",
   "execution_count": 20,
   "id": "4f6eaee0",
   "metadata": {},
   "outputs": [],
   "source": [
    "respiratory_rate_files_path = \"RawData\\RawRespiratoryRateFiles\"\n",
    "respiratory_rate_files_list = os.listdir(respiratory_rate_files_path) \n",
    "#print(respiratory_rate_files_list) # for debugging   \n",
    "\n",
    "# Concatenate files\n",
    "full_respiratory_rate_df = pd.concat([pd.read_csv(respiratory_rate_files_path+\"\\\\\"+file)\n",
    "                                    for file in respiratory_rate_files_list])\n",
    "#respiratory_rate_df # for debugging\n",
    "full_respiratory_rate_df.to_csv(\"RawData\\\\ConsolidatedData\\\\respiratory_rate.csv\")"
   ]
  },
  {
   "cell_type": "markdown",
   "id": "e397e26e",
   "metadata": {},
   "source": [
    "# Sleep score\n",
    "\n",
    "Overall score with components, minutes in deep sleep, resting hr, percent restlessness.  The data is already consolidated and in a `.csv` file."
   ]
  },
  {
   "cell_type": "markdown",
   "id": "e8471c8e",
   "metadata": {},
   "source": [
    "# Sleep stages\n",
    "\n",
    "Time spent in light, deep, REM."
   ]
  },
  {
   "cell_type": "code",
   "execution_count": 15,
   "id": "b52b9d72",
   "metadata": {},
   "outputs": [],
   "source": [
    "# List of files using os\n",
    "sleep_stages_files_path = \"RawData\\RawSleepStagesFiles\"\n",
    "sleep_stages_files_list = os.listdir(sleep_stages_files_path) \n",
    "#print(sleep_stages_files_list) # for debugging        \n",
    "\n",
    "# Concatenate all the .json files\n",
    "full_sleep_stages_json = []\n",
    "for file in sleep_stages_files_list:\n",
    "    file_with_path = sleep_stages_files_path+\"\\\\\"+file\n",
    "    full_sleep_stages_json.extend(json.load(open(file_with_path)))\n",
    "#print(full_sleep_stages_json) # for debugging \n",
    "\n",
    "# Save consolidated data to a .json file\n",
    "save_file = open(\"RawData\\\\ConsolidatedData\\\\sleep_stages.json\", \"w\")  \n",
    "json.dump(full_sleep_stages_json, save_file, indent = 4)  \n",
    "save_file.close()"
   ]
  }
 ],
 "metadata": {
  "kernelspec": {
   "display_name": "Python 3 (ipykernel)",
   "language": "python",
   "name": "python3"
  },
  "language_info": {
   "codemirror_mode": {
    "name": "ipython",
    "version": 3
   },
   "file_extension": ".py",
   "mimetype": "text/x-python",
   "name": "python",
   "nbconvert_exporter": "python",
   "pygments_lexer": "ipython3",
   "version": "3.9.12"
  }
 },
 "nbformat": 4,
 "nbformat_minor": 5
}
