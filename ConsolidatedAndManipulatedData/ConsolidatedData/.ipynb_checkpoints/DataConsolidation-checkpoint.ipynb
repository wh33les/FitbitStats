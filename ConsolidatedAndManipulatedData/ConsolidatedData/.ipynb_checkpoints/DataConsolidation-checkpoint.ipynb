{
 "cells": [
  {
   "cell_type": "markdown",
   "id": "bff5f260",
   "metadata": {},
   "source": [
    "# Packages"
   ]
  },
  {
   "cell_type": "code",
   "execution_count": 17,
   "id": "f1c80d51",
   "metadata": {},
   "outputs": [],
   "source": [
    "# To make data frames\n",
    "import pandas as pd\n",
    "\n",
    "# To list files in a directory\n",
    "import os\n",
    "\n",
    "# To work with .json files\n",
    "import json"
   ]
  },
  {
   "cell_type": "markdown",
   "id": "910ce031",
   "metadata": {},
   "source": [
    "# Active zone minutes"
   ]
  },
  {
   "cell_type": "code",
   "execution_count": null,
   "id": "cb456617",
   "metadata": {},
   "outputs": [],
   "source": [
    "# List of files using os\n",
    "active_zone_minutes_files_path = os.pardir+\"\\RawData\\RawActiveZoneMinutesFiles\"\n",
    "active_zone_minutes_files_list = [path for path \n",
    "                     in os.listdir(active_zone_minutes_files_path) \n",
    "                     if os.path.isfile(os.path.join(active_zone_minutes_files_path, path))]"
   ]
  },
  {
   "cell_type": "markdown",
   "id": "b41f08f9",
   "metadata": {},
   "source": [
    "# Weight"
   ]
  },
  {
   "cell_type": "code",
   "execution_count": 27,
   "id": "90375886",
   "metadata": {},
   "outputs": [],
   "source": [
    "# List of files using os\n",
    "weight_files_path = \"FitbitStatsProject\\RawData\\RawWeightFiles\"\n",
    "weight_files_list = [path for path \n",
    "                     in os.listdir(weight_files_path) \n",
    "                     if os.path.isfile(os.path.join(weight_files_path, path))]\n",
    "#print(weight_files_list) # for debugging        \n",
    "\n",
    "# Concatenate all the .json files\n",
    "full_weight_json = []\n",
    "for file in weight_files_list:\n",
    "    file_with_path = weight_files_path+\"\\\\\"+file\n",
    "    full_weight_json.extend(json.load(open(file_with_path)))\n",
    "#print(full_weight_json) # for debugging    "
   ]
  }
 ],
 "metadata": {
  "kernelspec": {
   "display_name": "Python 3 (ipykernel)",
   "language": "python",
   "name": "python3"
  },
  "language_info": {
   "codemirror_mode": {
    "name": "ipython",
    "version": 3
   },
   "file_extension": ".py",
   "mimetype": "text/x-python",
   "name": "python",
   "nbconvert_exporter": "python",
   "pygments_lexer": "ipython3",
   "version": "3.9.12"
  }
 },
 "nbformat": 4,
 "nbformat_minor": 5
}
