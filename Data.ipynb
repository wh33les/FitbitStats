{
 "cells": [
  {
   "cell_type": "code",
   "execution_count": 3,
   "id": "b1ab38d2",
   "metadata": {},
   "outputs": [],
   "source": [
    "import pandas as pd\n",
    "import glob, os, json"
   ]
  },
  {
   "cell_type": "markdown",
   "id": "b68dfc10",
   "metadata": {},
   "source": [
    "# Weight"
   ]
  },
  {
   "cell_type": "code",
   "execution_count": 6,
   "id": "0be36836",
   "metadata": {},
   "outputs": [
    {
     "data": {
      "text/plain": [
       "[]"
      ]
     },
     "execution_count": 6,
     "metadata": {},
     "output_type": "execute_result"
    }
   ],
   "source": [
    "weight_files_dir = 'Data/Weight'\n",
    "\n",
    "weight_json_pattern = os.path.join(weight_files_dir, '*.json')\n",
    "weight_file_list = glob.glob(json_pattern)\n",
    "weight_file_list"
   ]
  }
 ],
 "metadata": {
  "kernelspec": {
   "display_name": "Python 3 (ipykernel)",
   "language": "python",
   "name": "python3"
  },
  "language_info": {
   "codemirror_mode": {
    "name": "ipython",
    "version": 3
   },
   "file_extension": ".py",
   "mimetype": "text/x-python",
   "name": "python",
   "nbconvert_exporter": "python",
   "pygments_lexer": "ipython3",
   "version": "3.9.12"
  }
 },
 "nbformat": 4,
 "nbformat_minor": 5
}
