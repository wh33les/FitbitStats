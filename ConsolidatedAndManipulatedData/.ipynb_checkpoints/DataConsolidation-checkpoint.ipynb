{
 "cells": [
  {
   "cell_type": "markdown",
   "id": "21c0b906",
   "metadata": {},
   "source": [
    "# Packages"
   ]
  },
  {
   "cell_type": "code",
   "execution_count": 2,
   "id": "f1c80d51",
   "metadata": {},
   "outputs": [],
   "source": [
    "# To make data frames\n",
    "import pandas as pd\n",
    "\n",
    "# To scan folders based on file type\n",
    "import glob\n"
   ]
  },
  {
   "cell_type": "markdown",
   "id": "b41f08f9",
   "metadata": {},
   "source": [
    "# Weight"
   ]
  },
  {
   "cell_type": "code",
   "execution_count": 3,
   "id": "90375886",
   "metadata": {},
   "outputs": [
    {
     "data": {
      "text/plain": [
       "['DataConsolidation.ipynb']"
      ]
     },
     "execution_count": 3,
     "metadata": {},
     "output_type": "execute_result"
    }
   ],
   "source": [
    "raw_weight_files = glob.glob(\"*.*\")\n",
    "raw_weight_files"
   ]
  }
 ],
 "metadata": {
  "kernelspec": {
   "display_name": "Python 3 (ipykernel)",
   "language": "python",
   "name": "python3"
  },
  "language_info": {
   "codemirror_mode": {
    "name": "ipython",
    "version": 3
   },
   "file_extension": ".py",
   "mimetype": "text/x-python",
   "name": "python",
   "nbconvert_exporter": "python",
   "pygments_lexer": "ipython3",
   "version": "3.9.12"
  }
 },
 "nbformat": 4,
 "nbformat_minor": 5
}
